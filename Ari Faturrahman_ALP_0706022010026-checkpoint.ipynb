{
 "cells": [
  {
   "cell_type": "markdown",
   "id": "6d053b89",
   "metadata": {},
   "source": [
    "# ALP Ari Faturrahman - 0706022010026"
   ]
  },
  {
   "cell_type": "markdown",
   "id": "64d5e017",
   "metadata": {},
   "source": [
    "Lakukan Import terhadap library - library yang diperlukan dalam mengolah dataset"
   ]
  },
  {
   "cell_type": "code",
   "execution_count": 1,
   "id": "ec6400ff",
   "metadata": {},
   "outputs": [
    {
     "name": "stdout",
     "output_type": "stream",
     "text": [
      "Requirement already satisfied: imblearn in c:\\users\\fatur\\anaconda3\\lib\\site-packages (0.0)\n",
      "Requirement already satisfied: imbalanced-learn in c:\\users\\fatur\\anaconda3\\lib\\site-packages (from imblearn) (0.10.1)\n",
      "Requirement already satisfied: threadpoolctl>=2.0.0 in c:\\users\\fatur\\anaconda3\\lib\\site-packages (from imbalanced-learn->imblearn) (2.2.0)\n",
      "Requirement already satisfied: joblib>=1.1.1 in c:\\users\\fatur\\anaconda3\\lib\\site-packages (from imbalanced-learn->imblearn) (1.2.0)\n",
      "Requirement already satisfied: scikit-learn>=1.0.2 in c:\\users\\fatur\\anaconda3\\lib\\site-packages (from imbalanced-learn->imblearn) (1.0.2)\n",
      "Requirement already satisfied: numpy>=1.17.3 in c:\\users\\fatur\\anaconda3\\lib\\site-packages (from imbalanced-learn->imblearn) (1.21.5)\n",
      "Requirement already satisfied: scipy>=1.3.2 in c:\\users\\fatur\\anaconda3\\lib\\site-packages (from imbalanced-learn->imblearn) (1.7.3)\n"
     ]
    }
   ],
   "source": [
    "import pandas as pd \n",
    "import numpy as np\n",
    "import seaborn as sns\n",
    "import matplotlib.pyplot as plt\n",
    "!pip install imblearn"
   ]
  },
  {
   "cell_type": "markdown",
   "id": "dc80909e",
   "metadata": {},
   "source": [
    "# Load Dataset\n",
    "Steleah Melakukan import terhadap library yang akan digunakan setelah itu lakukan load dataset terkait yang akan diolah. pada kali ini saya akan melakukan pengolahan data terkait dataset Terapi Kelenjar Getah Bening."
   ]
  },
  {
   "cell_type": "code",
   "execution_count": 2,
   "id": "e3655cf9",
   "metadata": {},
   "outputs": [
    {
     "data": {
      "text/html": [
       "<div>\n",
       "<style scoped>\n",
       "    .dataframe tbody tr th:only-of-type {\n",
       "        vertical-align: middle;\n",
       "    }\n",
       "\n",
       "    .dataframe tbody tr th {\n",
       "        vertical-align: top;\n",
       "    }\n",
       "\n",
       "    .dataframe thead th {\n",
       "        text-align: right;\n",
       "    }\n",
       "</style>\n",
       "<table border=\"1\" class=\"dataframe\">\n",
       "  <thead>\n",
       "    <tr style=\"text-align: right;\">\n",
       "      <th></th>\n",
       "      <th>gender</th>\n",
       "      <th>age</th>\n",
       "      <th>Time</th>\n",
       "      <th>Number_of_Warts</th>\n",
       "      <th>Type</th>\n",
       "      <th>Area</th>\n",
       "      <th>induration_diameter</th>\n",
       "      <th>Result_of_Treatment</th>\n",
       "    </tr>\n",
       "  </thead>\n",
       "  <tbody>\n",
       "    <tr>\n",
       "      <th>0</th>\n",
       "      <td>1</td>\n",
       "      <td>15</td>\n",
       "      <td>11.00</td>\n",
       "      <td>6.0</td>\n",
       "      <td>1.0</td>\n",
       "      <td>30</td>\n",
       "      <td>25.0</td>\n",
       "      <td>0</td>\n",
       "    </tr>\n",
       "    <tr>\n",
       "      <th>1</th>\n",
       "      <td>1</td>\n",
       "      <td>27</td>\n",
       "      <td>11.75</td>\n",
       "      <td>NaN</td>\n",
       "      <td>1.0</td>\n",
       "      <td>208</td>\n",
       "      <td>6.0</td>\n",
       "      <td>0</td>\n",
       "    </tr>\n",
       "    <tr>\n",
       "      <th>2</th>\n",
       "      <td>1</td>\n",
       "      <td>32</td>\n",
       "      <td>12.00</td>\n",
       "      <td>9.0</td>\n",
       "      <td>1.0</td>\n",
       "      <td>43</td>\n",
       "      <td>50.0</td>\n",
       "      <td>0</td>\n",
       "    </tr>\n",
       "    <tr>\n",
       "      <th>3</th>\n",
       "      <td>1</td>\n",
       "      <td>33</td>\n",
       "      <td>1.75</td>\n",
       "      <td>7.0</td>\n",
       "      <td>2.0</td>\n",
       "      <td>379</td>\n",
       "      <td>7.0</td>\n",
       "      <td>0</td>\n",
       "    </tr>\n",
       "    <tr>\n",
       "      <th>4</th>\n",
       "      <td>1</td>\n",
       "      <td>34</td>\n",
       "      <td>5.00</td>\n",
       "      <td>7.0</td>\n",
       "      <td>3.0</td>\n",
       "      <td>64</td>\n",
       "      <td>7.0</td>\n",
       "      <td>0</td>\n",
       "    </tr>\n",
       "  </tbody>\n",
       "</table>\n",
       "</div>"
      ],
      "text/plain": [
       "   gender  age   Time  Number_of_Warts  Type  Area  induration_diameter  \\\n",
       "0       1   15  11.00              6.0   1.0    30                 25.0   \n",
       "1       1   27  11.75              NaN   1.0   208                  6.0   \n",
       "2       1   32  12.00              9.0   1.0    43                 50.0   \n",
       "3       1   33   1.75              7.0   2.0   379                  7.0   \n",
       "4       1   34   5.00              7.0   3.0    64                  7.0   \n",
       "\n",
       "   Result_of_Treatment  \n",
       "0                    0  \n",
       "1                    0  \n",
       "2                    0  \n",
       "3                    0  \n",
       "4                    0  "
      ]
     },
     "execution_count": 2,
     "metadata": {},
     "output_type": "execute_result"
    }
   ],
   "source": [
    "url = \"C:/Users/fatur/OneDrive/Dokumen/SEM 5/Data Mining/Dataset_Terapi_Kelenjar_Getah_Bening.csv\"\n",
    "df_data = pd.read_csv(url)\n",
    "df_data.head()"
   ]
  },
  {
   "cell_type": "code",
   "execution_count": 3,
   "id": "19bb0343",
   "metadata": {},
   "outputs": [
    {
     "data": {
      "text/plain": [
       "0     False\n",
       "1     False\n",
       "2     False\n",
       "3     False\n",
       "4     False\n",
       "      ...  \n",
       "85    False\n",
       "86    False\n",
       "87    False\n",
       "88    False\n",
       "89    False\n",
       "Length: 90, dtype: bool"
      ]
     },
     "execution_count": 3,
     "metadata": {},
     "output_type": "execute_result"
    }
   ],
   "source": [
    "duplikat = df_data.duplicated()\n",
    "duplikat"
   ]
  },
  {
   "cell_type": "code",
   "execution_count": 4,
   "id": "7282c8b1",
   "metadata": {},
   "outputs": [
    {
     "name": "stdout",
     "output_type": "stream",
     "text": [
      "<class 'pandas.core.frame.DataFrame'>\n",
      "RangeIndex: 90 entries, 0 to 89\n",
      "Data columns (total 8 columns):\n",
      " #   Column               Non-Null Count  Dtype  \n",
      "---  ------               --------------  -----  \n",
      " 0   gender               90 non-null     int64  \n",
      " 1   age                  90 non-null     int64  \n",
      " 2   Time                 87 non-null     float64\n",
      " 3   Number_of_Warts      89 non-null     float64\n",
      " 4   Type                 85 non-null     float64\n",
      " 5   Area                 90 non-null     int64  \n",
      " 6   induration_diameter  88 non-null     float64\n",
      " 7   Result_of_Treatment  90 non-null     int64  \n",
      "dtypes: float64(4), int64(4)\n",
      "memory usage: 5.8 KB\n"
     ]
    }
   ],
   "source": [
    "df_data.info()"
   ]
  },
  {
   "cell_type": "code",
   "execution_count": 5,
   "id": "2e271cdf",
   "metadata": {},
   "outputs": [
    {
     "data": {
      "text/plain": [
       "gender                 0\n",
       "age                    0\n",
       "Time                   3\n",
       "Number_of_Warts        1\n",
       "Type                   5\n",
       "Area                   0\n",
       "induration_diameter    2\n",
       "Result_of_Treatment    0\n",
       "dtype: int64"
      ]
     },
     "execution_count": 5,
     "metadata": {},
     "output_type": "execute_result"
    }
   ],
   "source": [
    "df_data.isnull().sum()"
   ]
  },
  {
   "cell_type": "code",
   "execution_count": 6,
   "id": "debdfb4f",
   "metadata": {},
   "outputs": [
    {
     "data": {
      "text/html": [
       "<div>\n",
       "<style scoped>\n",
       "    .dataframe tbody tr th:only-of-type {\n",
       "        vertical-align: middle;\n",
       "    }\n",
       "\n",
       "    .dataframe tbody tr th {\n",
       "        vertical-align: top;\n",
       "    }\n",
       "\n",
       "    .dataframe thead th {\n",
       "        text-align: right;\n",
       "    }\n",
       "</style>\n",
       "<table border=\"1\" class=\"dataframe\">\n",
       "  <thead>\n",
       "    <tr style=\"text-align: right;\">\n",
       "      <th></th>\n",
       "      <th>gender</th>\n",
       "      <th>age</th>\n",
       "      <th>Time</th>\n",
       "      <th>Number_of_Warts</th>\n",
       "      <th>Type</th>\n",
       "      <th>Area</th>\n",
       "      <th>induration_diameter</th>\n",
       "      <th>Result_of_Treatment</th>\n",
       "    </tr>\n",
       "  </thead>\n",
       "  <tbody>\n",
       "    <tr>\n",
       "      <th>gender</th>\n",
       "      <td>1.000000</td>\n",
       "      <td>0.043682</td>\n",
       "      <td>-0.013800</td>\n",
       "      <td>0.107065</td>\n",
       "      <td>-0.082378</td>\n",
       "      <td>-0.115664</td>\n",
       "      <td>0.014528</td>\n",
       "      <td>0.018831</td>\n",
       "    </tr>\n",
       "    <tr>\n",
       "      <th>age</th>\n",
       "      <td>0.043682</td>\n",
       "      <td>1.000000</td>\n",
       "      <td>0.191086</td>\n",
       "      <td>0.001750</td>\n",
       "      <td>-0.044553</td>\n",
       "      <td>-0.064334</td>\n",
       "      <td>-0.020287</td>\n",
       "      <td>-0.188314</td>\n",
       "    </tr>\n",
       "    <tr>\n",
       "      <th>Time</th>\n",
       "      <td>-0.013800</td>\n",
       "      <td>0.191086</td>\n",
       "      <td>1.000000</td>\n",
       "      <td>0.042942</td>\n",
       "      <td>-0.269183</td>\n",
       "      <td>-0.046104</td>\n",
       "      <td>-0.196455</td>\n",
       "      <td>-0.364466</td>\n",
       "    </tr>\n",
       "    <tr>\n",
       "      <th>Number_of_Warts</th>\n",
       "      <td>0.107065</td>\n",
       "      <td>0.001750</td>\n",
       "      <td>0.042942</td>\n",
       "      <td>1.000000</td>\n",
       "      <td>0.155240</td>\n",
       "      <td>-0.112198</td>\n",
       "      <td>0.082438</td>\n",
       "      <td>-0.038395</td>\n",
       "    </tr>\n",
       "    <tr>\n",
       "      <th>Type</th>\n",
       "      <td>-0.082378</td>\n",
       "      <td>-0.044553</td>\n",
       "      <td>-0.269183</td>\n",
       "      <td>0.155240</td>\n",
       "      <td>1.000000</td>\n",
       "      <td>-0.058883</td>\n",
       "      <td>0.192486</td>\n",
       "      <td>0.089139</td>\n",
       "    </tr>\n",
       "    <tr>\n",
       "      <th>Area</th>\n",
       "      <td>-0.115664</td>\n",
       "      <td>-0.064334</td>\n",
       "      <td>-0.046104</td>\n",
       "      <td>-0.112198</td>\n",
       "      <td>-0.058883</td>\n",
       "      <td>1.000000</td>\n",
       "      <td>0.115783</td>\n",
       "      <td>0.043349</td>\n",
       "    </tr>\n",
       "    <tr>\n",
       "      <th>induration_diameter</th>\n",
       "      <td>0.014528</td>\n",
       "      <td>-0.020287</td>\n",
       "      <td>-0.196455</td>\n",
       "      <td>0.082438</td>\n",
       "      <td>0.192486</td>\n",
       "      <td>0.115783</td>\n",
       "      <td>1.000000</td>\n",
       "      <td>-0.026373</td>\n",
       "    </tr>\n",
       "    <tr>\n",
       "      <th>Result_of_Treatment</th>\n",
       "      <td>0.018831</td>\n",
       "      <td>-0.188314</td>\n",
       "      <td>-0.364466</td>\n",
       "      <td>-0.038395</td>\n",
       "      <td>0.089139</td>\n",
       "      <td>0.043349</td>\n",
       "      <td>-0.026373</td>\n",
       "      <td>1.000000</td>\n",
       "    </tr>\n",
       "  </tbody>\n",
       "</table>\n",
       "</div>"
      ],
      "text/plain": [
       "                       gender       age      Time  Number_of_Warts      Type  \\\n",
       "gender               1.000000  0.043682 -0.013800         0.107065 -0.082378   \n",
       "age                  0.043682  1.000000  0.191086         0.001750 -0.044553   \n",
       "Time                -0.013800  0.191086  1.000000         0.042942 -0.269183   \n",
       "Number_of_Warts      0.107065  0.001750  0.042942         1.000000  0.155240   \n",
       "Type                -0.082378 -0.044553 -0.269183         0.155240  1.000000   \n",
       "Area                -0.115664 -0.064334 -0.046104        -0.112198 -0.058883   \n",
       "induration_diameter  0.014528 -0.020287 -0.196455         0.082438  0.192486   \n",
       "Result_of_Treatment  0.018831 -0.188314 -0.364466        -0.038395  0.089139   \n",
       "\n",
       "                         Area  induration_diameter  Result_of_Treatment  \n",
       "gender              -0.115664             0.014528             0.018831  \n",
       "age                 -0.064334            -0.020287            -0.188314  \n",
       "Time                -0.046104            -0.196455            -0.364466  \n",
       "Number_of_Warts     -0.112198             0.082438            -0.038395  \n",
       "Type                -0.058883             0.192486             0.089139  \n",
       "Area                 1.000000             0.115783             0.043349  \n",
       "induration_diameter  0.115783             1.000000            -0.026373  \n",
       "Result_of_Treatment  0.043349            -0.026373             1.000000  "
      ]
     },
     "execution_count": 6,
     "metadata": {},
     "output_type": "execute_result"
    }
   ],
   "source": [
    "df_data.corr()"
   ]
  },
  {
   "cell_type": "markdown",
   "id": "758cd609",
   "metadata": {},
   "source": [
    "# Tahap Preprocessing\n",
    "Saya Menggunakan metode KNN Imputer untuk mengisi missing Value pada dataset ini. Metode ini saya pilih berdasarkan ketidakyakinan saya terhadap disitribusi data pada dataset ini. Metode KNNImputer merupakan cara yang sederhana dan efektif untuk mengisi missing value pada sebuah dataset. "
   ]
  },
  {
   "cell_type": "code",
   "execution_count": 7,
   "id": "4b19d4a0",
   "metadata": {},
   "outputs": [],
   "source": [
    "from sklearn.impute import KNNImputer\n",
    "imputer = KNNImputer(n_neighbors=5)\n",
    "df_data = pd.DataFrame(imputer.fit_transform(df_data),columns = df_data.columns)"
   ]
  },
  {
   "cell_type": "code",
   "execution_count": 8,
   "id": "efc37ccd",
   "metadata": {},
   "outputs": [
    {
     "data": {
      "text/html": [
       "<div>\n",
       "<style scoped>\n",
       "    .dataframe tbody tr th:only-of-type {\n",
       "        vertical-align: middle;\n",
       "    }\n",
       "\n",
       "    .dataframe tbody tr th {\n",
       "        vertical-align: top;\n",
       "    }\n",
       "\n",
       "    .dataframe thead th {\n",
       "        text-align: right;\n",
       "    }\n",
       "</style>\n",
       "<table border=\"1\" class=\"dataframe\">\n",
       "  <thead>\n",
       "    <tr style=\"text-align: right;\">\n",
       "      <th></th>\n",
       "      <th>gender</th>\n",
       "      <th>age</th>\n",
       "      <th>Time</th>\n",
       "      <th>Number_of_Warts</th>\n",
       "      <th>Type</th>\n",
       "      <th>Area</th>\n",
       "      <th>induration_diameter</th>\n",
       "      <th>Result_of_Treatment</th>\n",
       "    </tr>\n",
       "  </thead>\n",
       "  <tbody>\n",
       "    <tr>\n",
       "      <th>0</th>\n",
       "      <td>1.0</td>\n",
       "      <td>15.0</td>\n",
       "      <td>11.00</td>\n",
       "      <td>6.0</td>\n",
       "      <td>1.0</td>\n",
       "      <td>30.0</td>\n",
       "      <td>25.0</td>\n",
       "      <td>0.0</td>\n",
       "    </tr>\n",
       "    <tr>\n",
       "      <th>1</th>\n",
       "      <td>1.0</td>\n",
       "      <td>27.0</td>\n",
       "      <td>11.75</td>\n",
       "      <td>2.6</td>\n",
       "      <td>1.0</td>\n",
       "      <td>208.0</td>\n",
       "      <td>6.0</td>\n",
       "      <td>0.0</td>\n",
       "    </tr>\n",
       "    <tr>\n",
       "      <th>2</th>\n",
       "      <td>1.0</td>\n",
       "      <td>32.0</td>\n",
       "      <td>12.00</td>\n",
       "      <td>9.0</td>\n",
       "      <td>1.0</td>\n",
       "      <td>43.0</td>\n",
       "      <td>50.0</td>\n",
       "      <td>0.0</td>\n",
       "    </tr>\n",
       "    <tr>\n",
       "      <th>3</th>\n",
       "      <td>1.0</td>\n",
       "      <td>33.0</td>\n",
       "      <td>1.75</td>\n",
       "      <td>7.0</td>\n",
       "      <td>2.0</td>\n",
       "      <td>379.0</td>\n",
       "      <td>7.0</td>\n",
       "      <td>0.0</td>\n",
       "    </tr>\n",
       "    <tr>\n",
       "      <th>4</th>\n",
       "      <td>1.0</td>\n",
       "      <td>34.0</td>\n",
       "      <td>5.00</td>\n",
       "      <td>7.0</td>\n",
       "      <td>3.0</td>\n",
       "      <td>64.0</td>\n",
       "      <td>7.0</td>\n",
       "      <td>0.0</td>\n",
       "    </tr>\n",
       "    <tr>\n",
       "      <th>...</th>\n",
       "      <td>...</td>\n",
       "      <td>...</td>\n",
       "      <td>...</td>\n",
       "      <td>...</td>\n",
       "      <td>...</td>\n",
       "      <td>...</td>\n",
       "      <td>...</td>\n",
       "      <td>...</td>\n",
       "    </tr>\n",
       "    <tr>\n",
       "      <th>85</th>\n",
       "      <td>2.0</td>\n",
       "      <td>51.0</td>\n",
       "      <td>4.00</td>\n",
       "      <td>1.0</td>\n",
       "      <td>1.0</td>\n",
       "      <td>65.0</td>\n",
       "      <td>7.0</td>\n",
       "      <td>1.0</td>\n",
       "    </tr>\n",
       "    <tr>\n",
       "      <th>86</th>\n",
       "      <td>2.0</td>\n",
       "      <td>51.0</td>\n",
       "      <td>6.00</td>\n",
       "      <td>6.0</td>\n",
       "      <td>1.6</td>\n",
       "      <td>80.0</td>\n",
       "      <td>2.0</td>\n",
       "      <td>1.0</td>\n",
       "    </tr>\n",
       "    <tr>\n",
       "      <th>87</th>\n",
       "      <td>2.0</td>\n",
       "      <td>52.0</td>\n",
       "      <td>2.25</td>\n",
       "      <td>5.0</td>\n",
       "      <td>1.0</td>\n",
       "      <td>63.0</td>\n",
       "      <td>7.0</td>\n",
       "      <td>1.0</td>\n",
       "    </tr>\n",
       "    <tr>\n",
       "      <th>88</th>\n",
       "      <td>2.0</td>\n",
       "      <td>53.0</td>\n",
       "      <td>10.00</td>\n",
       "      <td>1.0</td>\n",
       "      <td>2.0</td>\n",
       "      <td>30.0</td>\n",
       "      <td>25.0</td>\n",
       "      <td>1.0</td>\n",
       "    </tr>\n",
       "    <tr>\n",
       "      <th>89</th>\n",
       "      <td>2.0</td>\n",
       "      <td>53.0</td>\n",
       "      <td>7.25</td>\n",
       "      <td>6.0</td>\n",
       "      <td>1.6</td>\n",
       "      <td>81.0</td>\n",
       "      <td>7.0</td>\n",
       "      <td>1.0</td>\n",
       "    </tr>\n",
       "  </tbody>\n",
       "</table>\n",
       "<p>90 rows × 8 columns</p>\n",
       "</div>"
      ],
      "text/plain": [
       "    gender   age   Time  Number_of_Warts  Type   Area  induration_diameter  \\\n",
       "0      1.0  15.0  11.00              6.0   1.0   30.0                 25.0   \n",
       "1      1.0  27.0  11.75              2.6   1.0  208.0                  6.0   \n",
       "2      1.0  32.0  12.00              9.0   1.0   43.0                 50.0   \n",
       "3      1.0  33.0   1.75              7.0   2.0  379.0                  7.0   \n",
       "4      1.0  34.0   5.00              7.0   3.0   64.0                  7.0   \n",
       "..     ...   ...    ...              ...   ...    ...                  ...   \n",
       "85     2.0  51.0   4.00              1.0   1.0   65.0                  7.0   \n",
       "86     2.0  51.0   6.00              6.0   1.6   80.0                  2.0   \n",
       "87     2.0  52.0   2.25              5.0   1.0   63.0                  7.0   \n",
       "88     2.0  53.0  10.00              1.0   2.0   30.0                 25.0   \n",
       "89     2.0  53.0   7.25              6.0   1.6   81.0                  7.0   \n",
       "\n",
       "    Result_of_Treatment  \n",
       "0                   0.0  \n",
       "1                   0.0  \n",
       "2                   0.0  \n",
       "3                   0.0  \n",
       "4                   0.0  \n",
       "..                  ...  \n",
       "85                  1.0  \n",
       "86                  1.0  \n",
       "87                  1.0  \n",
       "88                  1.0  \n",
       "89                  1.0  \n",
       "\n",
       "[90 rows x 8 columns]"
      ]
     },
     "execution_count": 8,
     "metadata": {},
     "output_type": "execute_result"
    }
   ],
   "source": [
    "df_data"
   ]
  },
  {
   "cell_type": "markdown",
   "id": "0f253af2",
   "metadata": {},
   "source": [
    "Disini saya menggunakan histogram untuk melihat sebuah ketidakseimbangan value dari field target yaitu Result_of_Treatment"
   ]
  },
  {
   "cell_type": "code",
   "execution_count": 9,
   "id": "699f9d77",
   "metadata": {},
   "outputs": [
    {
     "data": {
      "text/plain": [
       "<AxesSubplot:xlabel='Result_of_Treatment', ylabel='Count'>"
      ]
     },
     "execution_count": 9,
     "metadata": {},
     "output_type": "execute_result"
    },
    {
     "data": {
      "image/png": "[encoded data removed]",
      "text/plain": [
       "<Figure size 720x720 with 4 Axes>"
      ]
     },
     "metadata": {
      "needs_background": "light"
     },
     "output_type": "display_data"
    }
   ],
   "source": [
    "fig,axes = plt.subplots(2,2,figsize=(10,10))\n",
    "sns.histplot(data=df_data,x='Result_of_Treatment',ax=axes[0,0])"
   ]
  },
  {
   "cell_type": "markdown",
   "id": "818e6148",
   "metadata": {},
   "source": [
    "Pisahkan Dataset menjadi Variabel dependen dan independent"
   ]
  },
  {
   "cell_type": "code",
   "execution_count": 10,
   "id": "d2db076a",
   "metadata": {},
   "outputs": [],
   "source": [
    "X = df_data[['gender', 'age', 'Time', 'Number_of_Warts', 'Type', 'Area', 'induration_diameter']]\n",
    "y = df_data[['Result_of_Treatment']]"
   ]
  },
  {
   "cell_type": "markdown",
   "id": "fa4c84b8",
   "metadata": {},
   "source": [
    "Saya menggunakan metode SMOTE oversampling untuk mengatasi imbalance data pada field target/variabel target. Metode ini berkerja dengan mencoba menyeimbangkan dataset dengan meningkatkan ukuran sampel langka. Daripada membuang sampel berlimpah, sampel langka baru dihasilkan dengan menggunakan mis. SMOTE (Sintetis Minoritas Sampling Teknik).Tidak ada keunggulan absolut dari satu metode resampling atas yang lain."
   ]
  },
  {
   "cell_type": "code",
   "execution_count": 11,
   "id": "adb01784",
   "metadata": {},
   "outputs": [],
   "source": [
    "from imblearn.over_sampling import SMOTE\n",
    "oversample = SMOTE()\n",
    "X, y = oversample.fit_resample(X, y)"
   ]
  },
  {
   "cell_type": "markdown",
   "id": "2e413443",
   "metadata": {},
   "source": [
    "Kemudian kita lakukan pengecekan kembali terhadap value dari Result_of_Treatment"
   ]
  },
  {
   "cell_type": "code",
   "execution_count": 12,
   "id": "f4d41b3d",
   "metadata": {},
   "outputs": [
    {
     "data": {
      "text/plain": [
       "<AxesSubplot:ylabel='Count'>"
      ]
     },
     "execution_count": 12,
     "metadata": {},
     "output_type": "execute_result"
    },
    {
     "data": {
      "image/png": "[encoded data removed]",
      "text/plain": [
       "<Figure size 720x720 with 4 Axes>"
      ]
     },
     "metadata": {
      "needs_background": "light"
     },
     "output_type": "display_data"
    }
   ],
   "source": [
    "fig,axes = plt.subplots(2,2,figsize=(10,10))\n",
    "sns.histplot(data = y)"
   ]
  },
  {
   "cell_type": "markdown",
   "id": "9788a915",
   "metadata": {},
   "source": [
    "Pisahkan Dataset train dan test dataset, kita gunakan test size '0.1'"
   ]
  },
  {
   "cell_type": "code",
   "execution_count": 13,
   "id": "ac92cb42",
   "metadata": {},
   "outputs": [],
   "source": [
    "from sklearn.model_selection import train_test_split\n",
    "X_train, X_test, y_train, y_test = train_test_split(X, y, test_size = 0.1, random_state = 0)"
   ]
  },
  {
   "cell_type": "markdown",
   "id": "f7a93cf8",
   "metadata": {},
   "source": [
    "Lakukan Fitur Scalling karena dataset bersifat numerical agar dapat menyamaratakan skala pada nilai numeric dataset"
   ]
  },
  {
   "cell_type": "code",
   "execution_count": 14,
   "id": "776c667b",
   "metadata": {},
   "outputs": [],
   "source": [
    "from sklearn.preprocessing import StandardScaler\n",
    "sc = StandardScaler()\n",
    "X_train = sc.fit_transform(X_train)\n",
    "X_test = sc.fit_transform(X_test)"
   ]
  },
  {
   "cell_type": "markdown",
   "id": "bbc7b451",
   "metadata": {},
   "source": [
    "# Melakukan Classification menggunakan Naive bayes\n",
    "\n",
    "Membuat model persamaan berdasarkan data training yang sudah dibuat pada tahap preprocess"
   ]
  },
  {
   "cell_type": "code",
   "execution_count": 15,
   "id": "03c93c85",
   "metadata": {},
   "outputs": [
    {
     "name": "stderr",
     "output_type": "stream",
     "text": [
      "C:\\Users\\fatur\\anaconda3\\lib\\site-packages\\sklearn\\utils\\validation.py:993: DataConversionWarning: A column-vector y was passed when a 1d array was expected. Please change the shape of y to (n_samples, ), for example using ravel().\n",
      "  y = column_or_1d(y, warn=True)\n"
     ]
    },
    {
     "data": {
      "text/plain": [
       "GaussianNB()"
      ]
     },
     "execution_count": 15,
     "metadata": {},
     "output_type": "execute_result"
    }
   ],
   "source": [
    "from sklearn.naive_bayes import GaussianNB\n",
    "klasifikasi = GaussianNB()\n",
    "klasifikasi.fit(X_train, y_train)"
   ]
  },
  {
   "cell_type": "markdown",
   "id": "c33b0ed7",
   "metadata": {},
   "source": [
    "Lakukan Uji model dengan dataset test"
   ]
  },
  {
   "cell_type": "code",
   "execution_count": 16,
   "id": "c8f126be",
   "metadata": {},
   "outputs": [
    {
     "name": "stdout",
     "output_type": "stream",
     "text": [
      "[1. 1. 0. 1. 1. 0. 0. 0. 1. 1. 0. 0. 1. 0. 0.]\n"
     ]
    }
   ],
   "source": [
    "y_pred = klasifikasi.predict(X_test)\n",
    "print(y_pred)"
   ]
  },
  {
   "cell_type": "markdown",
   "id": "f28bc805",
   "metadata": {},
   "source": [
    "Lakukan pengukuruan akurasi dengan menggunakan Confusion Matrix dengan model persamaan Naive Bayes Classification"
   ]
  },
  {
   "cell_type": "code",
   "execution_count": 17,
   "id": "3281fb54",
   "metadata": {},
   "outputs": [
    {
     "name": "stdout",
     "output_type": "stream",
     "text": [
      "confusion matrix  [[8 2]\n",
      " [0 5]]\n",
      "accuracy score 0.8666666666666667\n"
     ]
    }
   ],
   "source": [
    "from sklearn.metrics import confusion_matrix, accuracy_score\n",
    "cmatrix = confusion_matrix(y_test, y_pred)\n",
    "print(\"confusion matrix \", cmatrix)\n",
    "print(\"accuracy score\", accuracy_score(y_test, y_pred))"
   ]
  },
  {
   "cell_type": "code",
   "execution_count": 18,
   "id": "7462bf0e",
   "metadata": {},
   "outputs": [
    {
     "data": {
      "image/png": "[encoded data removed]",
      "text/plain": [
       "<Figure size 432x288 with 2 Axes>"
      ]
     },
     "metadata": {
      "needs_background": "light"
     },
     "output_type": "display_data"
    }
   ],
   "source": [
    "sns.heatmap(cmatrix, annot=True, fmt='d', xticklabels=['+', '-'], yticklabels=['+', '-'], vmax=100, vmin=0, cmap = 'Greens')\n",
    "plt.title('Confusion Matrix Naive Bayes')\n",
    "plt.show()"
   ]
  },
  {
   "cell_type": "markdown",
   "id": "5db3740d",
   "metadata": {},
   "source": [
    "# Linear Regression\n",
    "\n",
    "Membuat model Linear Regression kemudian tunjukan intercept beserta coefficient dari setiap variabel independen (X) nya"
   ]
  },
  {
   "cell_type": "code",
   "execution_count": 19,
   "id": "fe2e8b3f",
   "metadata": {},
   "outputs": [
    {
     "name": "stdout",
     "output_type": "stream",
     "text": [
      "[[0.59849332]\n",
      " [0.85472569]\n",
      " [0.53430414]\n",
      " [0.60602317]\n",
      " [0.44604494]\n",
      " [0.26203479]\n",
      " [0.31288221]\n",
      " [0.35053521]\n",
      " [0.78927801]\n",
      " [0.84416876]\n",
      " [0.35309158]\n",
      " [0.21920617]\n",
      " [0.91072137]\n",
      " [0.32557062]\n",
      " [0.3881956 ]]\n",
      "[[ 0.00698992 -0.04623661 -0.24682618  0.0290944  -0.05364695  0.00886669\n",
      "  -0.02205575]]\n",
      "[0.51968504]\n"
     ]
    }
   ],
   "source": [
    "from sklearn.linear_model import LinearRegression\n",
    "from scipy.stats import linregress\n",
    "from sklearn import linear_model\n",
    "regression = LinearRegression()\n",
    "regression = regression.fit(X_train, y_train)\n",
    "regression.predict(X_test)\n",
    "print(regression.predict(X_test))\n",
    "\n",
    "#regression coefficient\n",
    "coefficient = regression.coef_\n",
    "print(coefficient)\n",
    "\n",
    "#regression intercept\n",
    "intercept = regression.intercept_\n",
    "print(intercept)\n"
   ]
  },
  {
   "cell_type": "markdown",
   "id": "a191acd3",
   "metadata": {},
   "source": [
    "Lalu Tampilkan Mean Squared Errornya juga"
   ]
  },
  {
   "cell_type": "code",
   "execution_count": 20,
   "id": "17b57257",
   "metadata": {},
   "outputs": [
    {
     "data": {
      "text/plain": [
       "0.4644110737189373"
      ]
     },
     "execution_count": 20,
     "metadata": {},
     "output_type": "execute_result"
    }
   ],
   "source": [
    "from math import sqrt\n",
    "from sklearn.metrics import mean_squared_error\n",
    "sqrt(mean_squared_error(y_test, regression.predict(X_test)))"
   ]
  },
  {
   "cell_type": "markdown",
   "id": "c5000f59",
   "metadata": {},
   "source": [
    "# Clustering\n",
    "\n",
    "Melakukan Clustering menggunakan K-Means"
   ]
  },
  {
   "cell_type": "code",
   "execution_count": 21,
   "id": "305e4885",
   "metadata": {},
   "outputs": [
    {
     "data": {
      "text/html": [
       "<div>\n",
       "<style scoped>\n",
       "    .dataframe tbody tr th:only-of-type {\n",
       "        vertical-align: middle;\n",
       "    }\n",
       "\n",
       "    .dataframe tbody tr th {\n",
       "        vertical-align: top;\n",
       "    }\n",
       "\n",
       "    .dataframe thead th {\n",
       "        text-align: right;\n",
       "    }\n",
       "</style>\n",
       "<table border=\"1\" class=\"dataframe\">\n",
       "  <thead>\n",
       "    <tr style=\"text-align: right;\">\n",
       "      <th></th>\n",
       "      <th>gender</th>\n",
       "      <th>age</th>\n",
       "      <th>Time</th>\n",
       "      <th>Number_of_Warts</th>\n",
       "      <th>Type</th>\n",
       "      <th>Area</th>\n",
       "      <th>induration_diameter</th>\n",
       "      <th>Result_of_Treatment</th>\n",
       "    </tr>\n",
       "  </thead>\n",
       "  <tbody>\n",
       "    <tr>\n",
       "      <th>0</th>\n",
       "      <td>-1.093216</td>\n",
       "      <td>-1.318656</td>\n",
       "      <td>1.221638</td>\n",
       "      <td>-0.020104</td>\n",
       "      <td>-0.930238</td>\n",
       "      <td>-0.483609</td>\n",
       "      <td>0.617401</td>\n",
       "      <td>-1.933091</td>\n",
       "    </tr>\n",
       "    <tr>\n",
       "      <th>1</th>\n",
       "      <td>-1.093216</td>\n",
       "      <td>-0.332404</td>\n",
       "      <td>1.464419</td>\n",
       "      <td>-0.829546</td>\n",
       "      <td>-0.930238</td>\n",
       "      <td>0.826625</td>\n",
       "      <td>-0.494155</td>\n",
       "      <td>-1.933091</td>\n",
       "    </tr>\n",
       "    <tr>\n",
       "      <th>2</th>\n",
       "      <td>-1.093216</td>\n",
       "      <td>0.078535</td>\n",
       "      <td>1.545346</td>\n",
       "      <td>0.694110</td>\n",
       "      <td>-0.930238</td>\n",
       "      <td>-0.387918</td>\n",
       "      <td>2.079975</td>\n",
       "      <td>-1.933091</td>\n",
       "    </tr>\n",
       "    <tr>\n",
       "      <th>3</th>\n",
       "      <td>-1.093216</td>\n",
       "      <td>0.160723</td>\n",
       "      <td>-1.772661</td>\n",
       "      <td>0.217968</td>\n",
       "      <td>0.315616</td>\n",
       "      <td>2.085334</td>\n",
       "      <td>-0.435652</td>\n",
       "      <td>-1.933091</td>\n",
       "    </tr>\n",
       "    <tr>\n",
       "      <th>4</th>\n",
       "      <td>-1.093216</td>\n",
       "      <td>0.242910</td>\n",
       "      <td>-0.720610</td>\n",
       "      <td>0.217968</td>\n",
       "      <td>1.561470</td>\n",
       "      <td>-0.233339</td>\n",
       "      <td>-0.435652</td>\n",
       "      <td>-1.933091</td>\n",
       "    </tr>\n",
       "  </tbody>\n",
       "</table>\n",
       "</div>"
      ],
      "text/plain": [
       "     gender       age      Time  Number_of_Warts      Type      Area  \\\n",
       "0 -1.093216 -1.318656  1.221638        -0.020104 -0.930238 -0.483609   \n",
       "1 -1.093216 -0.332404  1.464419        -0.829546 -0.930238  0.826625   \n",
       "2 -1.093216  0.078535  1.545346         0.694110 -0.930238 -0.387918   \n",
       "3 -1.093216  0.160723 -1.772661         0.217968  0.315616  2.085334   \n",
       "4 -1.093216  0.242910 -0.720610         0.217968  1.561470 -0.233339   \n",
       "\n",
       "   induration_diameter  Result_of_Treatment  \n",
       "0             0.617401            -1.933091  \n",
       "1            -0.494155            -1.933091  \n",
       "2             2.079975            -1.933091  \n",
       "3            -0.435652            -1.933091  \n",
       "4            -0.435652            -1.933091  "
      ]
     },
     "execution_count": 21,
     "metadata": {},
     "output_type": "execute_result"
    }
   ],
   "source": [
    "from sklearn.preprocessing import StandardScaler\n",
    "sc = StandardScaler()\n",
    "df_scale = sc.fit_transform(df_data.to_numpy())\n",
    "df_scale = pd.DataFrame(df_scale, columns=['gender', 'age', 'Time', 'Number_of_Warts', 'Type', 'Area', 'induration_diameter', 'Result_of_Treatment'])\n",
    "df_scale.head()"
   ]
  },
  {
   "cell_type": "code",
   "execution_count": 22,
   "id": "3643c084",
   "metadata": {},
   "outputs": [
    {
     "name": "stderr",
     "output_type": "stream",
     "text": [
      "C:\\Users\\fatur\\anaconda3\\lib\\site-packages\\sklearn\\cluster\\_kmeans.py:1036: UserWarning: KMeans is known to have a memory leak on Windows with MKL, when there are less chunks than available threads. You can avoid it by setting the environment variable OMP_NUM_THREADS=1.\n",
      "  warnings.warn(\n"
     ]
    }
   ],
   "source": [
    "from sklearn.cluster import KMeans\n",
    "\n",
    "sse = []\n",
    "for k in range(1, 11):\n",
    "    kmeans = KMeans(n_clusters=k)\n",
    "    kmeans.fit(df_scale)\n",
    "    sse.append(kmeans.inertia_)"
   ]
  },
  {
   "cell_type": "code",
   "execution_count": 23,
   "id": "0b0f2023",
   "metadata": {},
   "outputs": [
    {
     "data": {
      "image/png": "[encoded data removed]",
      "text/plain": [
       "<Figure size 432x288 with 1 Axes>"
      ]
     },
     "metadata": {
      "needs_background": "light"
     },
     "output_type": "display_data"
    }
   ],
   "source": [
    "plt.plot(range(1, 11), sse)\n",
    "plt.xticks(range(1, 11))\n",
    "plt.xlabel('Number of Cluster')\n",
    "plt.ylabel('SSE');"
   ]
  },
  {
   "cell_type": "code",
   "execution_count": 24,
   "id": "a4206395",
   "metadata": {},
   "outputs": [
    {
     "name": "stdout",
     "output_type": "stream",
     "text": [
      "Elbow/Knee:  4\n"
     ]
    }
   ],
   "source": [
    "from kneed import KneeLocator\n",
    "k = KneeLocator(range(1,11), sse, curve='convex', direction='decreasing')\n",
    "print('Elbow/Knee: ', k.elbow)"
   ]
  },
  {
   "cell_type": "code",
   "execution_count": 25,
   "id": "52ab3e7e",
   "metadata": {},
   "outputs": [],
   "source": [
    "kmeans = KMeans(init=\"random\",n_clusters=3,max_iter=300,random_state=0)\n",
    "pred = kmeans.fit_predict(df_scale)\n",
    "pred\n",
    "df_data['K Means'] = pred"
   ]
  },
  {
   "cell_type": "code",
   "execution_count": 26,
   "id": "1ed7610c",
   "metadata": {},
   "outputs": [
    {
     "data": {
      "text/html": [
       "<div>\n",
       "<style scoped>\n",
       "    .dataframe tbody tr th:only-of-type {\n",
       "        vertical-align: middle;\n",
       "    }\n",
       "\n",
       "    .dataframe tbody tr th {\n",
       "        vertical-align: top;\n",
       "    }\n",
       "\n",
       "    .dataframe thead th {\n",
       "        text-align: right;\n",
       "    }\n",
       "</style>\n",
       "<table border=\"1\" class=\"dataframe\">\n",
       "  <thead>\n",
       "    <tr style=\"text-align: right;\">\n",
       "      <th></th>\n",
       "      <th>gender</th>\n",
       "      <th>age</th>\n",
       "      <th>Time</th>\n",
       "      <th>Number_of_Warts</th>\n",
       "      <th>Type</th>\n",
       "      <th>Area</th>\n",
       "      <th>induration_diameter</th>\n",
       "      <th>Result_of_Treatment</th>\n",
       "      <th>Count</th>\n",
       "    </tr>\n",
       "    <tr>\n",
       "      <th>K Means</th>\n",
       "      <th></th>\n",
       "      <th></th>\n",
       "      <th></th>\n",
       "      <th></th>\n",
       "      <th></th>\n",
       "      <th></th>\n",
       "      <th></th>\n",
       "      <th></th>\n",
       "      <th></th>\n",
       "    </tr>\n",
       "  </thead>\n",
       "  <tbody>\n",
       "    <tr>\n",
       "      <th>0</th>\n",
       "      <td>1.458333</td>\n",
       "      <td>27.291667</td>\n",
       "      <td>4.483333</td>\n",
       "      <td>8.875000</td>\n",
       "      <td>2.583333</td>\n",
       "      <td>86.083333</td>\n",
       "      <td>26.591667</td>\n",
       "      <td>1.0</td>\n",
       "      <td>24</td>\n",
       "    </tr>\n",
       "    <tr>\n",
       "      <th>1</th>\n",
       "      <td>1.526316</td>\n",
       "      <td>35.473684</td>\n",
       "      <td>9.381579</td>\n",
       "      <td>6.242105</td>\n",
       "      <td>1.621053</td>\n",
       "      <td>84.315789</td>\n",
       "      <td>15.368421</td>\n",
       "      <td>0.0</td>\n",
       "      <td>19</td>\n",
       "    </tr>\n",
       "    <tr>\n",
       "      <th>2</th>\n",
       "      <td>1.595745</td>\n",
       "      <td>31.170213</td>\n",
       "      <td>7.755319</td>\n",
       "      <td>4.595745</td>\n",
       "      <td>1.370213</td>\n",
       "      <td>105.212766</td>\n",
       "      <td>7.872340</td>\n",
       "      <td>1.0</td>\n",
       "      <td>47</td>\n",
       "    </tr>\n",
       "  </tbody>\n",
       "</table>\n",
       "</div>"
      ],
      "text/plain": [
       "           gender        age      Time  Number_of_Warts      Type        Area  \\\n",
       "K Means                                                                         \n",
       "0        1.458333  27.291667  4.483333         8.875000  2.583333   86.083333   \n",
       "1        1.526316  35.473684  9.381579         6.242105  1.621053   84.315789   \n",
       "2        1.595745  31.170213  7.755319         4.595745  1.370213  105.212766   \n",
       "\n",
       "         induration_diameter  Result_of_Treatment  Count  \n",
       "K Means                                                   \n",
       "0                  26.591667                  1.0     24  \n",
       "1                  15.368421                  0.0     19  \n",
       "2                   7.872340                  1.0     47  "
      ]
     },
     "execution_count": 26,
     "metadata": {},
     "output_type": "execute_result"
    }
   ],
   "source": [
    "df_data.groupby('K Means').agg(\n",
    "gender = ('gender', pd.Series.mean), \n",
    "age = ('age', pd.Series.mean),\n",
    "Time = ('Time', pd.Series.mean),\n",
    "Number_of_Warts = ('Number_of_Warts', pd.Series.mean),\n",
    "Type = ('Type', pd.Series.mean),\n",
    "Area = ('Area', pd.Series.mean),\n",
    "induration_diameter = ('induration_diameter', pd.Series.mean), \n",
    "Result_of_Treatment = ('Result_of_Treatment', pd.Series.mean), Count = ('K Means', 'count')\n",
    ")"
   ]
  },
  {
   "cell_type": "code",
   "execution_count": 27,
   "id": "ae7210d8",
   "metadata": {},
   "outputs": [
    {
     "data": {
      "image/png": "[encoded data removed]",
      "text/plain": [
       "<Figure size 1440x504 with 1 Axes>"
      ]
     },
     "metadata": {
      "needs_background": "light"
     },
     "output_type": "display_data"
    }
   ],
   "source": [
    "from scipy.cluster.hierarchy import dendrogram, linkage\n",
    "plt.figure(figsize=(20,7))\n",
    "linkage_data = linkage(df_scale, method='complete', metric='euclidean',)\n",
    "dendrogram(linkage_data)\n",
    "plt.show()"
   ]
  },
  {
   "cell_type": "markdown",
   "id": "47980740",
   "metadata": {},
   "source": [
    "# Kesimpulan\n",
    "\n",
    "Diatas merupakan sebuah pengolahan dataset melalui 3 model yaitu Classification, Regression, dan Clustering. Sebelum melakukan permodelan dataset memang harus lebih dulu kita preprocessing hal ini dikarenakan terdapat beberapa missing value pada data, selain itu juga terdapat imbalance / ketidakseimbangan data pada variable target yang membuat kita harus melakukan oversampling agar value dari variable target menjadi balance. Setelah itu baru dilakukan permodelan. Pada permodelan Klasifikasi menggunakan Naive Bayes didapatkan akurasi score sebesar 0.8666"
   ]
  }
 ],
 "metadata": {
  "kernelspec": {
   "display_name": "Python 3 (ipykernel)",
   "language": "python",
   "name": "python3"
  },
  "language_info": {
   "codemirror_mode": {
    "name": "ipython",
    "version": 3
   },
   "file_extension": ".py",
   "mimetype": "text/x-python",
   "name": "python",
   "nbconvert_exporter": "python",
   "pygments_lexer": "ipython3",
   "version": "3.9.12"
  }
 },
 "nbformat": 4,
 "nbformat_minor": 5
}
