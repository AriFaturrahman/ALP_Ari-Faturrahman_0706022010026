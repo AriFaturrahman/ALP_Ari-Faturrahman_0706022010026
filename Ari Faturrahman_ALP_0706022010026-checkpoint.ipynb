{
 "cells": [
  {
   "cell_type": "markdown",
   "id": "6d053b89",
   "metadata": {},
   "source": [
    "# ALP Ari Faturrahman - 0706022010026"
   ]
  },
  {
   "cell_type": "markdown",
   "id": "64d5e017",
   "metadata": {},
   "source": [
    "Lakukan Import terhadap library - library yang diperlukan dalam mengolah dataset"
   ]
  },
  {
   "cell_type": "code",
   "execution_count": 1,
   "id": "ec6400ff",
   "metadata": {},
   "outputs": [
    {
     "name": "stdout",
     "output_type": "stream",
     "text": [
      "Requirement already satisfied: imblearn in c:\\users\\fatur\\anaconda3\\lib\\site-packages (0.0)\n",
      "Requirement already satisfied: imbalanced-learn in c:\\users\\fatur\\anaconda3\\lib\\site-packages (from imblearn) (0.10.1)\n",
      "Requirement already satisfied: scipy>=1.3.2 in c:\\users\\fatur\\anaconda3\\lib\\site-packages (from imbalanced-learn->imblearn) (1.7.3)\n",
      "Requirement already satisfied: scikit-learn>=1.0.2 in c:\\users\\fatur\\anaconda3\\lib\\site-packages (from imbalanced-learn->imblearn) (1.0.2)\n",
      "Requirement already satisfied: numpy>=1.17.3 in c:\\users\\fatur\\anaconda3\\lib\\site-packages (from imbalanced-learn->imblearn) (1.21.5)\n",
      "Requirement already satisfied: threadpoolctl>=2.0.0 in c:\\users\\fatur\\anaconda3\\lib\\site-packages (from imbalanced-learn->imblearn) (2.2.0)\n",
      "Requirement already satisfied: joblib>=1.1.1 in c:\\users\\fatur\\anaconda3\\lib\\site-packages (from imbalanced-learn->imblearn) (1.2.0)\n"
     ]
    }
   ],
   "source": [
    "import pandas as pd \n",
    "import numpy as np\n",
    "import seaborn as sns\n",
    "import matplotlib.pyplot as plt\n",
    "!pip install imblearn"
   ]
  },
  {
   "cell_type": "markdown",
   "id": "dc80909e",
   "metadata": {},
   "source": [
    "# Load Dataset\n",
    "Steleah Melakukan import terhadap library yang akan digunakan setelah itu lakukan load dataset terkait yang akan diolah. pada kali ini saya akan melakukan pengolahan data terkait dataset Terapi Kelenjar Getah Bening."
   ]
  },
  {
   "cell_type": "code",
   "execution_count": 2,
   "id": "e3655cf9",
   "metadata": {},
   "outputs": [
    {
     "data": {
      "text/html": [
       "<div>\n",
       "<style scoped>\n",
       "    .dataframe tbody tr th:only-of-type {\n",
       "        vertical-align: middle;\n",
       "    }\n",
       "\n",
       "    .dataframe tbody tr th {\n",
       "        vertical-align: top;\n",
       "    }\n",
       "\n",
       "    .dataframe thead th {\n",
       "        text-align: right;\n",
       "    }\n",
       "</style>\n",
       "<table border=\"1\" class=\"dataframe\">\n",
       "  <thead>\n",
       "    <tr style=\"text-align: right;\">\n",
       "      <th></th>\n",
       "      <th>gender</th>\n",
       "      <th>age</th>\n",
       "      <th>Time</th>\n",
       "      <th>Number_of_Warts</th>\n",
       "      <th>Type</th>\n",
       "      <th>Area</th>\n",
       "      <th>induration_diameter</th>\n",
       "      <th>Result_of_Treatment</th>\n",
       "    </tr>\n",
       "  </thead>\n",
       "  <tbody>\n",
       "    <tr>\n",
       "      <th>0</th>\n",
       "      <td>1</td>\n",
       "      <td>15</td>\n",
       "      <td>11.00</td>\n",
       "      <td>6.0</td>\n",
       "      <td>1.0</td>\n",
       "      <td>30</td>\n",
       "      <td>25.0</td>\n",
       "      <td>0</td>\n",
       "    </tr>\n",
       "    <tr>\n",
       "      <th>1</th>\n",
       "      <td>1</td>\n",
       "      <td>27</td>\n",
       "      <td>11.75</td>\n",
       "      <td>NaN</td>\n",
       "      <td>1.0</td>\n",
       "      <td>208</td>\n",
       "      <td>6.0</td>\n",
       "      <td>0</td>\n",
       "    </tr>\n",
       "    <tr>\n",
       "      <th>2</th>\n",
       "      <td>1</td>\n",
       "      <td>32</td>\n",
       "      <td>12.00</td>\n",
       "      <td>9.0</td>\n",
       "      <td>1.0</td>\n",
       "      <td>43</td>\n",
       "      <td>50.0</td>\n",
       "      <td>0</td>\n",
       "    </tr>\n",
       "    <tr>\n",
       "      <th>3</th>\n",
       "      <td>1</td>\n",
       "      <td>33</td>\n",
       "      <td>1.75</td>\n",
       "      <td>7.0</td>\n",
       "      <td>2.0</td>\n",
       "      <td>379</td>\n",
       "      <td>7.0</td>\n",
       "      <td>0</td>\n",
       "    </tr>\n",
       "    <tr>\n",
       "      <th>4</th>\n",
       "      <td>1</td>\n",
       "      <td>34</td>\n",
       "      <td>5.00</td>\n",
       "      <td>7.0</td>\n",
       "      <td>3.0</td>\n",
       "      <td>64</td>\n",
       "      <td>7.0</td>\n",
       "      <td>0</td>\n",
       "    </tr>\n",
       "  </tbody>\n",
       "</table>\n",
       "</div>"
      ],
      "text/plain": [
       "   gender  age   Time  Number_of_Warts  Type  Area  induration_diameter  \\\n",
       "0       1   15  11.00              6.0   1.0    30                 25.0   \n",
       "1       1   27  11.75              NaN   1.0   208                  6.0   \n",
       "2       1   32  12.00              9.0   1.0    43                 50.0   \n",
       "3       1   33   1.75              7.0   2.0   379                  7.0   \n",
       "4       1   34   5.00              7.0   3.0    64                  7.0   \n",
       "\n",
       "   Result_of_Treatment  \n",
       "0                    0  \n",
       "1                    0  \n",
       "2                    0  \n",
       "3                    0  \n",
       "4                    0  "
      ]
     },
     "execution_count": 2,
     "metadata": {},
     "output_type": "execute_result"
    }
   ],
   "source": [
    "url = \"C:/Users/fatur/OneDrive/Dokumen/SEM 5/Data Mining/Dataset_Terapi_Kelenjar_Getah_Bening.csv\"\n",
    "df_data = pd.read_csv(url)\n",
    "df_data.head()"
   ]
  },
  {
   "cell_type": "code",
   "execution_count": 3,
   "id": "19bb0343",
   "metadata": {},
   "outputs": [
    {
     "data": {
      "text/plain": [
       "0     False\n",
       "1     False\n",
       "2     False\n",
       "3     False\n",
       "4     False\n",
       "      ...  \n",
       "85    False\n",
       "86    False\n",
       "87    False\n",
       "88    False\n",
       "89    False\n",
       "Length: 90, dtype: bool"
      ]
     },
     "execution_count": 3,
     "metadata": {},
     "output_type": "execute_result"
    }
   ],
   "source": [
    "duplikat = df_data.duplicated()\n",
    "duplikat"
   ]
  },
  {
   "cell_type": "code",
   "execution_count": 4,
   "id": "7282c8b1",
   "metadata": {},
   "outputs": [
    {
     "name": "stdout",
     "output_type": "stream",
     "text": [
      "<class 'pandas.core.frame.DataFrame'>\n",
      "RangeIndex: 90 entries, 0 to 89\n",
      "Data columns (total 8 columns):\n",
      " #   Column               Non-Null Count  Dtype  \n",
      "---  ------               --------------  -----  \n",
      " 0   gender               90 non-null     int64  \n",
      " 1   age                  90 non-null     int64  \n",
      " 2   Time                 87 non-null     float64\n",
      " 3   Number_of_Warts      89 non-null     float64\n",
      " 4   Type                 85 non-null     float64\n",
      " 5   Area                 90 non-null     int64  \n",
      " 6   induration_diameter  88 non-null     float64\n",
      " 7   Result_of_Treatment  90 non-null     int64  \n",
      "dtypes: float64(4), int64(4)\n",
      "memory usage: 5.8 KB\n"
     ]
    }
   ],
   "source": [
    "df_data.info()"
   ]
  },
  {
   "cell_type": "code",
   "execution_count": 5,
   "id": "7f15637a",
   "metadata": {},
   "outputs": [
    {
     "data": {
      "text/html": [
       "<div>\n",
       "<style scoped>\n",
       "    .dataframe tbody tr th:only-of-type {\n",
       "        vertical-align: middle;\n",
       "    }\n",
       "\n",
       "    .dataframe tbody tr th {\n",
       "        vertical-align: top;\n",
       "    }\n",
       "\n",
       "    .dataframe thead th {\n",
       "        text-align: right;\n",
       "    }\n",
       "</style>\n",
       "<table border=\"1\" class=\"dataframe\">\n",
       "  <thead>\n",
       "    <tr style=\"text-align: right;\">\n",
       "      <th></th>\n",
       "      <th>gender</th>\n",
       "      <th>age</th>\n",
       "      <th>Time</th>\n",
       "      <th>Number_of_Warts</th>\n",
       "      <th>Type</th>\n",
       "      <th>Area</th>\n",
       "      <th>induration_diameter</th>\n",
       "      <th>Result_of_Treatment</th>\n",
       "    </tr>\n",
       "  </thead>\n",
       "  <tbody>\n",
       "    <tr>\n",
       "      <th>count</th>\n",
       "      <td>90.000000</td>\n",
       "      <td>90.000000</td>\n",
       "      <td>87.000000</td>\n",
       "      <td>89.000000</td>\n",
       "      <td>85.000000</td>\n",
       "      <td>90.000000</td>\n",
       "      <td>88.000000</td>\n",
       "      <td>90.000000</td>\n",
       "    </tr>\n",
       "    <tr>\n",
       "      <th>mean</th>\n",
       "      <td>1.544444</td>\n",
       "      <td>31.044444</td>\n",
       "      <td>7.221264</td>\n",
       "      <td>6.123596</td>\n",
       "      <td>1.752941</td>\n",
       "      <td>95.700000</td>\n",
       "      <td>14.500000</td>\n",
       "      <td>0.788889</td>\n",
       "    </tr>\n",
       "    <tr>\n",
       "      <th>std</th>\n",
       "      <td>0.500811</td>\n",
       "      <td>12.235435</td>\n",
       "      <td>3.151325</td>\n",
       "      <td>4.231431</td>\n",
       "      <td>0.829599</td>\n",
       "      <td>136.614643</td>\n",
       "      <td>17.378147</td>\n",
       "      <td>0.410383</td>\n",
       "    </tr>\n",
       "    <tr>\n",
       "      <th>min</th>\n",
       "      <td>1.000000</td>\n",
       "      <td>15.000000</td>\n",
       "      <td>1.000000</td>\n",
       "      <td>1.000000</td>\n",
       "      <td>1.000000</td>\n",
       "      <td>6.000000</td>\n",
       "      <td>2.000000</td>\n",
       "      <td>0.000000</td>\n",
       "    </tr>\n",
       "    <tr>\n",
       "      <th>25%</th>\n",
       "      <td>1.000000</td>\n",
       "      <td>20.250000</td>\n",
       "      <td>5.000000</td>\n",
       "      <td>2.000000</td>\n",
       "      <td>1.000000</td>\n",
       "      <td>35.500000</td>\n",
       "      <td>5.000000</td>\n",
       "      <td>1.000000</td>\n",
       "    </tr>\n",
       "    <tr>\n",
       "      <th>50%</th>\n",
       "      <td>2.000000</td>\n",
       "      <td>28.500000</td>\n",
       "      <td>7.750000</td>\n",
       "      <td>6.000000</td>\n",
       "      <td>2.000000</td>\n",
       "      <td>53.000000</td>\n",
       "      <td>7.000000</td>\n",
       "      <td>1.000000</td>\n",
       "    </tr>\n",
       "    <tr>\n",
       "      <th>75%</th>\n",
       "      <td>2.000000</td>\n",
       "      <td>41.750000</td>\n",
       "      <td>10.000000</td>\n",
       "      <td>9.000000</td>\n",
       "      <td>2.000000</td>\n",
       "      <td>80.750000</td>\n",
       "      <td>9.000000</td>\n",
       "      <td>1.000000</td>\n",
       "    </tr>\n",
       "    <tr>\n",
       "      <th>max</th>\n",
       "      <td>2.000000</td>\n",
       "      <td>56.000000</td>\n",
       "      <td>12.000000</td>\n",
       "      <td>19.000000</td>\n",
       "      <td>3.000000</td>\n",
       "      <td>900.000000</td>\n",
       "      <td>70.000000</td>\n",
       "      <td>1.000000</td>\n",
       "    </tr>\n",
       "  </tbody>\n",
       "</table>\n",
       "</div>"
      ],
      "text/plain": [
       "          gender        age       Time  Number_of_Warts       Type  \\\n",
       "count  90.000000  90.000000  87.000000        89.000000  85.000000   \n",
       "mean    1.544444  31.044444   7.221264         6.123596   1.752941   \n",
       "std     0.500811  12.235435   3.151325         4.231431   0.829599   \n",
       "min     1.000000  15.000000   1.000000         1.000000   1.000000   \n",
       "25%     1.000000  20.250000   5.000000         2.000000   1.000000   \n",
       "50%     2.000000  28.500000   7.750000         6.000000   2.000000   \n",
       "75%     2.000000  41.750000  10.000000         9.000000   2.000000   \n",
       "max     2.000000  56.000000  12.000000        19.000000   3.000000   \n",
       "\n",
       "             Area  induration_diameter  Result_of_Treatment  \n",
       "count   90.000000            88.000000            90.000000  \n",
       "mean    95.700000            14.500000             0.788889  \n",
       "std    136.614643            17.378147             0.410383  \n",
       "min      6.000000             2.000000             0.000000  \n",
       "25%     35.500000             5.000000             1.000000  \n",
       "50%     53.000000             7.000000             1.000000  \n",
       "75%     80.750000             9.000000             1.000000  \n",
       "max    900.000000            70.000000             1.000000  "
      ]
     },
     "execution_count": 5,
     "metadata": {},
     "output_type": "execute_result"
    }
   ],
   "source": [
    "df_data.describe()"
   ]
  },
  {
   "cell_type": "code",
   "execution_count": 6,
   "id": "2e271cdf",
   "metadata": {},
   "outputs": [
    {
     "data": {
      "text/plain": [
       "gender                 0\n",
       "age                    0\n",
       "Time                   3\n",
       "Number_of_Warts        1\n",
       "Type                   5\n",
       "Area                   0\n",
       "induration_diameter    2\n",
       "Result_of_Treatment    0\n",
       "dtype: int64"
      ]
     },
     "execution_count": 6,
     "metadata": {},
     "output_type": "execute_result"
    }
   ],
   "source": [
    "df_data.isnull().sum()"
   ]
  },
  {
   "cell_type": "code",
   "execution_count": 7,
   "id": "b6fcdec0",
   "metadata": {},
   "outputs": [
    {
     "data": {
      "image/png": "[encoded data removed]",
      "text/plain": [
       "<Figure size 432x288 with 2 Axes>"
      ]
     },
     "metadata": {
      "needs_background": "light"
     },
     "output_type": "display_data"
    }
   ],
   "source": [
    "import seaborn as sns\n",
    "new_data = df_data.corr()\n",
    "sns.heatmap(new_data, annot=True, vmin=-1, vmax=1)\n",
    "plt.show()"
   ]
  },
  {
   "cell_type": "markdown",
   "id": "758cd609",
   "metadata": {},
   "source": [
    "# Tahap Preprocessing\n",
    "Saya Menggunakan metode KNN Imputer untuk mengisi missing Value pada dataset ini. Metode ini saya pilih berdasarkan ketidakyakinan saya terhadap disitribusi data pada dataset ini. Metode KNNImputer merupakan cara yang sederhana dan efektif untuk mengisi missing value pada sebuah dataset. "
   ]
  },
  {
   "cell_type": "code",
   "execution_count": 8,
   "id": "4b19d4a0",
   "metadata": {},
   "outputs": [],
   "source": [
    "from sklearn.impute import KNNImputer\n",
    "imputer = KNNImputer(n_neighbors=5)\n",
    "df_data = pd.DataFrame(imputer.fit_transform(df_data),columns = df_data.columns)"
   ]
  },
  {
   "cell_type": "code",
   "execution_count": 9,
   "id": "efc37ccd",
   "metadata": {},
   "outputs": [
    {
     "data": {
      "text/html": [
       "<div>\n",
       "<style scoped>\n",
       "    .dataframe tbody tr th:only-of-type {\n",
       "        vertical-align: middle;\n",
       "    }\n",
       "\n",
       "    .dataframe tbody tr th {\n",
       "        vertical-align: top;\n",
       "    }\n",
       "\n",
       "    .dataframe thead th {\n",
       "        text-align: right;\n",
       "    }\n",
       "</style>\n",
       "<table border=\"1\" class=\"dataframe\">\n",
       "  <thead>\n",
       "    <tr style=\"text-align: right;\">\n",
       "      <th></th>\n",
       "      <th>gender</th>\n",
       "      <th>age</th>\n",
       "      <th>Time</th>\n",
       "      <th>Number_of_Warts</th>\n",
       "      <th>Type</th>\n",
       "      <th>Area</th>\n",
       "      <th>induration_diameter</th>\n",
       "      <th>Result_of_Treatment</th>\n",
       "    </tr>\n",
       "  </thead>\n",
       "  <tbody>\n",
       "    <tr>\n",
       "      <th>0</th>\n",
       "      <td>1.0</td>\n",
       "      <td>15.0</td>\n",
       "      <td>11.00</td>\n",
       "      <td>6.0</td>\n",
       "      <td>1.0</td>\n",
       "      <td>30.0</td>\n",
       "      <td>25.0</td>\n",
       "      <td>0.0</td>\n",
       "    </tr>\n",
       "    <tr>\n",
       "      <th>1</th>\n",
       "      <td>1.0</td>\n",
       "      <td>27.0</td>\n",
       "      <td>11.75</td>\n",
       "      <td>2.6</td>\n",
       "      <td>1.0</td>\n",
       "      <td>208.0</td>\n",
       "      <td>6.0</td>\n",
       "      <td>0.0</td>\n",
       "    </tr>\n",
       "    <tr>\n",
       "      <th>2</th>\n",
       "      <td>1.0</td>\n",
       "      <td>32.0</td>\n",
       "      <td>12.00</td>\n",
       "      <td>9.0</td>\n",
       "      <td>1.0</td>\n",
       "      <td>43.0</td>\n",
       "      <td>50.0</td>\n",
       "      <td>0.0</td>\n",
       "    </tr>\n",
       "    <tr>\n",
       "      <th>3</th>\n",
       "      <td>1.0</td>\n",
       "      <td>33.0</td>\n",
       "      <td>1.75</td>\n",
       "      <td>7.0</td>\n",
       "      <td>2.0</td>\n",
       "      <td>379.0</td>\n",
       "      <td>7.0</td>\n",
       "      <td>0.0</td>\n",
       "    </tr>\n",
       "    <tr>\n",
       "      <th>4</th>\n",
       "      <td>1.0</td>\n",
       "      <td>34.0</td>\n",
       "      <td>5.00</td>\n",
       "      <td>7.0</td>\n",
       "      <td>3.0</td>\n",
       "      <td>64.0</td>\n",
       "      <td>7.0</td>\n",
       "      <td>0.0</td>\n",
       "    </tr>\n",
       "    <tr>\n",
       "      <th>...</th>\n",
       "      <td>...</td>\n",
       "      <td>...</td>\n",
       "      <td>...</td>\n",
       "      <td>...</td>\n",
       "      <td>...</td>\n",
       "      <td>...</td>\n",
       "      <td>...</td>\n",
       "      <td>...</td>\n",
       "    </tr>\n",
       "    <tr>\n",
       "      <th>85</th>\n",
       "      <td>2.0</td>\n",
       "      <td>51.0</td>\n",
       "      <td>4.00</td>\n",
       "      <td>1.0</td>\n",
       "      <td>1.0</td>\n",
       "      <td>65.0</td>\n",
       "      <td>7.0</td>\n",
       "      <td>1.0</td>\n",
       "    </tr>\n",
       "    <tr>\n",
       "      <th>86</th>\n",
       "      <td>2.0</td>\n",
       "      <td>51.0</td>\n",
       "      <td>6.00</td>\n",
       "      <td>6.0</td>\n",
       "      <td>1.6</td>\n",
       "      <td>80.0</td>\n",
       "      <td>2.0</td>\n",
       "      <td>1.0</td>\n",
       "    </tr>\n",
       "    <tr>\n",
       "      <th>87</th>\n",
       "      <td>2.0</td>\n",
       "      <td>52.0</td>\n",
       "      <td>2.25</td>\n",
       "      <td>5.0</td>\n",
       "      <td>1.0</td>\n",
       "      <td>63.0</td>\n",
       "      <td>7.0</td>\n",
       "      <td>1.0</td>\n",
       "    </tr>\n",
       "    <tr>\n",
       "      <th>88</th>\n",
       "      <td>2.0</td>\n",
       "      <td>53.0</td>\n",
       "      <td>10.00</td>\n",
       "      <td>1.0</td>\n",
       "      <td>2.0</td>\n",
       "      <td>30.0</td>\n",
       "      <td>25.0</td>\n",
       "      <td>1.0</td>\n",
       "    </tr>\n",
       "    <tr>\n",
       "      <th>89</th>\n",
       "      <td>2.0</td>\n",
       "      <td>53.0</td>\n",
       "      <td>7.25</td>\n",
       "      <td>6.0</td>\n",
       "      <td>1.6</td>\n",
       "      <td>81.0</td>\n",
       "      <td>7.0</td>\n",
       "      <td>1.0</td>\n",
       "    </tr>\n",
       "  </tbody>\n",
       "</table>\n",
       "<p>90 rows × 8 columns</p>\n",
       "</div>"
      ],
      "text/plain": [
       "    gender   age   Time  Number_of_Warts  Type   Area  induration_diameter  \\\n",
       "0      1.0  15.0  11.00              6.0   1.0   30.0                 25.0   \n",
       "1      1.0  27.0  11.75              2.6   1.0  208.0                  6.0   \n",
       "2      1.0  32.0  12.00              9.0   1.0   43.0                 50.0   \n",
       "3      1.0  33.0   1.75              7.0   2.0  379.0                  7.0   \n",
       "4      1.0  34.0   5.00              7.0   3.0   64.0                  7.0   \n",
       "..     ...   ...    ...              ...   ...    ...                  ...   \n",
       "85     2.0  51.0   4.00              1.0   1.0   65.0                  7.0   \n",
       "86     2.0  51.0   6.00              6.0   1.6   80.0                  2.0   \n",
       "87     2.0  52.0   2.25              5.0   1.0   63.0                  7.0   \n",
       "88     2.0  53.0  10.00              1.0   2.0   30.0                 25.0   \n",
       "89     2.0  53.0   7.25              6.0   1.6   81.0                  7.0   \n",
       "\n",
       "    Result_of_Treatment  \n",
       "0                   0.0  \n",
       "1                   0.0  \n",
       "2                   0.0  \n",
       "3                   0.0  \n",
       "4                   0.0  \n",
       "..                  ...  \n",
       "85                  1.0  \n",
       "86                  1.0  \n",
       "87                  1.0  \n",
       "88                  1.0  \n",
       "89                  1.0  \n",
       "\n",
       "[90 rows x 8 columns]"
      ]
     },
     "execution_count": 9,
     "metadata": {},
     "output_type": "execute_result"
    }
   ],
   "source": [
    "df_data"
   ]
  },
  {
   "cell_type": "code",
   "execution_count": 10,
   "id": "f5760f1c",
   "metadata": {},
   "outputs": [
    {
     "data": {
      "text/plain": [
       "gender                 0\n",
       "age                    0\n",
       "Time                   0\n",
       "Number_of_Warts        0\n",
       "Type                   0\n",
       "Area                   0\n",
       "induration_diameter    0\n",
       "Result_of_Treatment    0\n",
       "dtype: int64"
      ]
     },
     "execution_count": 10,
     "metadata": {},
     "output_type": "execute_result"
    }
   ],
   "source": [
    "df_data.isnull().sum()"
   ]
  },
  {
   "cell_type": "markdown",
   "id": "0f253af2",
   "metadata": {},
   "source": [
    "Disini saya menggunakan histogram untuk melihat sebuah ketidakseimbangan value dari field target yaitu Result_of_Treatment"
   ]
  },
  {
   "cell_type": "code",
   "execution_count": 11,
   "id": "699f9d77",
   "metadata": {},
   "outputs": [
    {
     "data": {
      "text/plain": [
       "<AxesSubplot:xlabel='Result_of_Treatment', ylabel='Count'>"
      ]
     },
     "execution_count": 11,
     "metadata": {},
     "output_type": "execute_result"
    },
    {
     "data": {
      "image/png": "[encoded data removed]",
      "text/plain": [
       "<Figure size 720x720 with 4 Axes>"
      ]
     },
     "metadata": {
      "needs_background": "light"
     },
     "output_type": "display_data"
    }
   ],
   "source": [
    "fig,axes = plt.subplots(2,2,figsize=(10,10))\n",
    "sns.histplot(data=df_data,x='Result_of_Treatment',ax=axes[0,0])"
   ]
  },
  {
   "cell_type": "markdown",
   "id": "818e6148",
   "metadata": {},
   "source": [
    "Pisahkan Dataset menjadi Variabel dependen dan independent"
   ]
  },
  {
   "cell_type": "code",
   "execution_count": 12,
   "id": "d2db076a",
   "metadata": {},
   "outputs": [],
   "source": [
    "X = df_data[['gender', 'age', 'Time', 'Number_of_Warts', 'Type', 'Area', 'induration_diameter']]\n",
    "y = df_data[['Result_of_Treatment']]"
   ]
  },
  {
   "cell_type": "markdown",
   "id": "fa4c84b8",
   "metadata": {},
   "source": [
    "Saya menggunakan metode SMOTE oversampling untuk mengatasi imbalance data pada field target/variabel target. Metode ini berkerja dengan mencoba menyeimbangkan dataset dengan meningkatkan ukuran sampel langka. Daripada membuang sampel berlimpah, sampel langka baru dihasilkan dengan menggunakan mis. SMOTE (Sintetis Minoritas Sampling Teknik).Tidak ada keunggulan absolut dari satu metode resampling atas yang lain."
   ]
  },
  {
   "cell_type": "code",
   "execution_count": 13,
   "id": "adb01784",
   "metadata": {},
   "outputs": [],
   "source": [
    "from imblearn.over_sampling import SMOTE\n",
    "oversample = SMOTE()\n",
    "X, y = oversample.fit_resample(X, y)"
   ]
  },
  {
   "cell_type": "markdown",
   "id": "2e413443",
   "metadata": {},
   "source": [
    "Kemudian kita lakukan pengecekan kembali terhadap value dari Result_of_Treatment"
   ]
  },
  {
   "cell_type": "code",
   "execution_count": 14,
   "id": "f4d41b3d",
   "metadata": {},
   "outputs": [
    {
     "data": {
      "text/plain": [
       "<AxesSubplot:ylabel='Count'>"
      ]
     },
     "execution_count": 14,
     "metadata": {},
     "output_type": "execute_result"
    },
    {
     "data": {
      "image/png": "[encoded data removed]",
      "text/plain": [
       "<Figure size 720x720 with 4 Axes>"
      ]
     },
     "metadata": {
      "needs_background": "light"
     },
     "output_type": "display_data"
    }
   ],
   "source": [
    "fig,axes = plt.subplots(2,2,figsize=(10,10))\n",
    "sns.histplot(data = y)"
   ]
  },
  {
   "cell_type": "markdown",
   "id": "9788a915",
   "metadata": {},
   "source": [
    "Pisahkan Dataset train dan test dataset, kita gunakan test size '0.1'"
   ]
  },
  {
   "cell_type": "code",
   "execution_count": 15,
   "id": "ac92cb42",
   "metadata": {},
   "outputs": [],
   "source": [
    "from sklearn.model_selection import train_test_split\n",
    "X_train, X_test, y_train, y_test = train_test_split(X, y, test_size = 0.1, random_state = 0)"
   ]
  },
  {
   "cell_type": "markdown",
   "id": "f7a93cf8",
   "metadata": {},
   "source": [
    "Lakukan Fitur Scalling karena dataset bersifat numerical agar dapat menyamaratakan skala pada nilai numeric dataset"
   ]
  },
  {
   "cell_type": "code",
   "execution_count": 16,
   "id": "776c667b",
   "metadata": {},
   "outputs": [],
   "source": [
    "from sklearn.preprocessing import StandardScaler\n",
    "sc = StandardScaler()\n",
    "X_train = sc.fit_transform(X_train)\n",
    "X_test = sc.fit_transform(X_test)"
   ]
  },
  {
   "cell_type": "markdown",
   "id": "bbc7b451",
   "metadata": {},
   "source": [
    "# Melakukan Classification menggunakan Naive bayes\n",
    "\n",
    "Membuat model persamaan berdasarkan data training yang sudah dibuat pada tahap preprocess"
   ]
  },
  {
   "cell_type": "code",
   "execution_count": 17,
   "id": "03c93c85",
   "metadata": {},
   "outputs": [
    {
     "name": "stderr",
     "output_type": "stream",
     "text": [
      "C:\\Users\\fatur\\anaconda3\\lib\\site-packages\\sklearn\\utils\\validation.py:993: DataConversionWarning: A column-vector y was passed when a 1d array was expected. Please change the shape of y to (n_samples, ), for example using ravel().\n",
      "  y = column_or_1d(y, warn=True)\n"
     ]
    },
    {
     "data": {
      "text/plain": [
       "GaussianNB()"
      ]
     },
     "execution_count": 17,
     "metadata": {},
     "output_type": "execute_result"
    }
   ],
   "source": [
    "from sklearn.naive_bayes import GaussianNB\n",
    "klasifikasi = GaussianNB()\n",
    "klasifikasi.fit(X_train, y_train)"
   ]
  },
  {
   "cell_type": "markdown",
   "id": "c33b0ed7",
   "metadata": {},
   "source": [
    "Lakukan Uji model dengan dataset test"
   ]
  },
  {
   "cell_type": "code",
   "execution_count": 18,
   "id": "c8f126be",
   "metadata": {},
   "outputs": [
    {
     "name": "stdout",
     "output_type": "stream",
     "text": [
      "[1. 1. 0. 1. 1. 0. 0. 0. 0. 1. 0. 0. 1. 0. 0.]\n"
     ]
    }
   ],
   "source": [
    "y_pred = klasifikasi.predict(X_test)\n",
    "print(y_pred)"
   ]
  },
  {
   "cell_type": "markdown",
   "id": "f28bc805",
   "metadata": {},
   "source": [
    "Lakukan pengukuruan akurasi dengan menggunakan Confusion Matrix dengan model persamaan Naive Bayes Classification"
   ]
  },
  {
   "cell_type": "code",
   "execution_count": 19,
   "id": "3281fb54",
   "metadata": {},
   "outputs": [
    {
     "name": "stdout",
     "output_type": "stream",
     "text": [
      "confusion matrix  [[8 2]\n",
      " [1 4]]\n",
      "accuracy score 0.8\n"
     ]
    }
   ],
   "source": [
    "from sklearn.metrics import confusion_matrix, accuracy_score\n",
    "cmatrix = confusion_matrix(y_test, y_pred)\n",
    "print(\"confusion matrix \", cmatrix)\n",
    "print(\"accuracy score\", accuracy_score(y_test, y_pred))"
   ]
  },
  {
   "cell_type": "code",
   "execution_count": 20,
   "id": "7462bf0e",
   "metadata": {},
   "outputs": [
    {
     "data": {
      "image/png": "[encoded data removed]",
      "text/plain": [
       "<Figure size 432x288 with 2 Axes>"
      ]
     },
     "metadata": {
      "needs_background": "light"
     },
     "output_type": "display_data"
    }
   ],
   "source": [
    "sns.heatmap(cmatrix, annot=True, fmt='d', xticklabels=['+', '-'], yticklabels=['+', '-'], vmax=100, vmin=0, cmap = 'Greens')\n",
    "plt.title('Confusion Matrix Naive Bayes')\n",
    "plt.show()"
   ]
  },
  {
   "cell_type": "markdown",
   "id": "5db3740d",
   "metadata": {},
   "source": [
    "# Linear Regression\n",
    "\n",
    "Membuat model Linear Regression kemudian tunjukan intercept beserta coefficient dari setiap variabel independen (X) nya"
   ]
  },
  {
   "cell_type": "code",
   "execution_count": 21,
   "id": "fe2e8b3f",
   "metadata": {},
   "outputs": [
    {
     "name": "stdout",
     "output_type": "stream",
     "text": [
      "[[0.48758587]\n",
      " [0.78662964]\n",
      " [0.48195556]\n",
      " [0.63817791]\n",
      " [0.43317742]\n",
      " [0.17797552]\n",
      " [0.28053199]\n",
      " [0.43904222]\n",
      " [0.68562506]\n",
      " [1.16186162]\n",
      " [0.46460706]\n",
      " [0.41142729]\n",
      " [0.73036373]\n",
      " [0.40073555]\n",
      " [0.21557915]]\n",
      "[[ 0.03005197 -0.06796176 -0.22993359  0.02052367 -0.04091788  0.04389387\n",
      "  -0.02465415]]\n",
      "[0.51968504]\n"
     ]
    }
   ],
   "source": [
    "from sklearn.linear_model import LinearRegression\n",
    "from scipy.stats import linregress\n",
    "from sklearn import linear_model\n",
    "regression = LinearRegression()\n",
    "regression = regression.fit(X_train, y_train)\n",
    "regression.predict(X_test)\n",
    "print(regression.predict(X_test))\n",
    "\n",
    "#regression coefficient\n",
    "coefficient = regression.coef_\n",
    "print(coefficient)\n",
    "\n",
    "#regression intercept\n",
    "intercept = regression.intercept_\n",
    "print(intercept)\n"
   ]
  },
  {
   "cell_type": "markdown",
   "id": "a191acd3",
   "metadata": {},
   "source": [
    "Lalu Tampilkan Mean Squared Errornya juga"
   ]
  },
  {
   "cell_type": "code",
   "execution_count": 22,
   "id": "17b57257",
   "metadata": {},
   "outputs": [
    {
     "data": {
      "text/plain": [
       "0.5079430167924669"
      ]
     },
     "execution_count": 22,
     "metadata": {},
     "output_type": "execute_result"
    }
   ],
   "source": [
    "from math import sqrt\n",
    "from sklearn.metrics import mean_squared_error\n",
    "sqrt(mean_squared_error(y_test, regression.predict(X_test)))"
   ]
  },
  {
   "cell_type": "markdown",
   "id": "c5000f59",
   "metadata": {},
   "source": [
    "# Clustering\n",
    "\n",
    "Melakukan Clustering menggunakan K-Means"
   ]
  },
  {
   "cell_type": "code",
   "execution_count": 23,
   "id": "305e4885",
   "metadata": {},
   "outputs": [
    {
     "data": {
      "text/html": [
       "<div>\n",
       "<style scoped>\n",
       "    .dataframe tbody tr th:only-of-type {\n",
       "        vertical-align: middle;\n",
       "    }\n",
       "\n",
       "    .dataframe tbody tr th {\n",
       "        vertical-align: top;\n",
       "    }\n",
       "\n",
       "    .dataframe thead th {\n",
       "        text-align: right;\n",
       "    }\n",
       "</style>\n",
       "<table border=\"1\" class=\"dataframe\">\n",
       "  <thead>\n",
       "    <tr style=\"text-align: right;\">\n",
       "      <th></th>\n",
       "      <th>gender</th>\n",
       "      <th>age</th>\n",
       "      <th>Time</th>\n",
       "      <th>Number_of_Warts</th>\n",
       "      <th>Type</th>\n",
       "      <th>Area</th>\n",
       "      <th>induration_diameter</th>\n",
       "      <th>Result_of_Treatment</th>\n",
       "    </tr>\n",
       "  </thead>\n",
       "  <tbody>\n",
       "    <tr>\n",
       "      <th>0</th>\n",
       "      <td>-1.093216</td>\n",
       "      <td>-1.318656</td>\n",
       "      <td>1.221638</td>\n",
       "      <td>-0.020104</td>\n",
       "      <td>-0.930238</td>\n",
       "      <td>-0.483609</td>\n",
       "      <td>0.617401</td>\n",
       "      <td>-1.933091</td>\n",
       "    </tr>\n",
       "    <tr>\n",
       "      <th>1</th>\n",
       "      <td>-1.093216</td>\n",
       "      <td>-0.332404</td>\n",
       "      <td>1.464419</td>\n",
       "      <td>-0.829546</td>\n",
       "      <td>-0.930238</td>\n",
       "      <td>0.826625</td>\n",
       "      <td>-0.494155</td>\n",
       "      <td>-1.933091</td>\n",
       "    </tr>\n",
       "    <tr>\n",
       "      <th>2</th>\n",
       "      <td>-1.093216</td>\n",
       "      <td>0.078535</td>\n",
       "      <td>1.545346</td>\n",
       "      <td>0.694110</td>\n",
       "      <td>-0.930238</td>\n",
       "      <td>-0.387918</td>\n",
       "      <td>2.079975</td>\n",
       "      <td>-1.933091</td>\n",
       "    </tr>\n",
       "    <tr>\n",
       "      <th>3</th>\n",
       "      <td>-1.093216</td>\n",
       "      <td>0.160723</td>\n",
       "      <td>-1.772661</td>\n",
       "      <td>0.217968</td>\n",
       "      <td>0.315616</td>\n",
       "      <td>2.085334</td>\n",
       "      <td>-0.435652</td>\n",
       "      <td>-1.933091</td>\n",
       "    </tr>\n",
       "    <tr>\n",
       "      <th>4</th>\n",
       "      <td>-1.093216</td>\n",
       "      <td>0.242910</td>\n",
       "      <td>-0.720610</td>\n",
       "      <td>0.217968</td>\n",
       "      <td>1.561470</td>\n",
       "      <td>-0.233339</td>\n",
       "      <td>-0.435652</td>\n",
       "      <td>-1.933091</td>\n",
       "    </tr>\n",
       "  </tbody>\n",
       "</table>\n",
       "</div>"
      ],
      "text/plain": [
       "     gender       age      Time  Number_of_Warts      Type      Area  \\\n",
       "0 -1.093216 -1.318656  1.221638        -0.020104 -0.930238 -0.483609   \n",
       "1 -1.093216 -0.332404  1.464419        -0.829546 -0.930238  0.826625   \n",
       "2 -1.093216  0.078535  1.545346         0.694110 -0.930238 -0.387918   \n",
       "3 -1.093216  0.160723 -1.772661         0.217968  0.315616  2.085334   \n",
       "4 -1.093216  0.242910 -0.720610         0.217968  1.561470 -0.233339   \n",
       "\n",
       "   induration_diameter  Result_of_Treatment  \n",
       "0             0.617401            -1.933091  \n",
       "1            -0.494155            -1.933091  \n",
       "2             2.079975            -1.933091  \n",
       "3            -0.435652            -1.933091  \n",
       "4            -0.435652            -1.933091  "
      ]
     },
     "execution_count": 23,
     "metadata": {},
     "output_type": "execute_result"
    }
   ],
   "source": [
    "from sklearn.preprocessing import StandardScaler\n",
    "sc = StandardScaler()\n",
    "df_scale = sc.fit_transform(df_data.to_numpy())\n",
    "df_scale = pd.DataFrame(df_scale, columns=['gender', 'age', 'Time', 'Number_of_Warts', 'Type', 'Area', 'induration_diameter', 'Result_of_Treatment'])\n",
    "df_scale.head()"
   ]
  },
  {
   "cell_type": "code",
   "execution_count": 24,
   "id": "3643c084",
   "metadata": {},
   "outputs": [
    {
     "name": "stderr",
     "output_type": "stream",
     "text": [
      "C:\\Users\\fatur\\anaconda3\\lib\\site-packages\\sklearn\\cluster\\_kmeans.py:1036: UserWarning: KMeans is known to have a memory leak on Windows with MKL, when there are less chunks than available threads. You can avoid it by setting the environment variable OMP_NUM_THREADS=1.\n",
      "  warnings.warn(\n"
     ]
    }
   ],
   "source": [
    "from sklearn.cluster import KMeans\n",
    "\n",
    "sse = []\n",
    "for k in range(1, 11):\n",
    "    kmeans = KMeans(n_clusters=k)\n",
    "    kmeans.fit(df_scale)\n",
    "    sse.append(kmeans.inertia_)"
   ]
  },
  {
   "cell_type": "code",
   "execution_count": 25,
   "id": "0b0f2023",
   "metadata": {},
   "outputs": [
    {
     "data": {
      "image/png": "[encoded data removed]",
      "text/plain": [
       "<Figure size 432x288 with 1 Axes>"
      ]
     },
     "metadata": {
      "needs_background": "light"
     },
     "output_type": "display_data"
    }
   ],
   "source": [
    "plt.plot(range(1, 11), sse)\n",
    "plt.xticks(range(1, 11))\n",
    "plt.xlabel('Number of Cluster')\n",
    "plt.ylabel('SSE');"
   ]
  },
  {
   "cell_type": "code",
   "execution_count": 26,
   "id": "a4206395",
   "metadata": {},
   "outputs": [
    {
     "name": "stdout",
     "output_type": "stream",
     "text": [
      "Elbow/Knee:  4\n"
     ]
    }
   ],
   "source": [
    "from kneed import KneeLocator\n",
    "k = KneeLocator(range(1,11), sse, curve='convex', direction='decreasing')\n",
    "print('Elbow/Knee: ', k.elbow)"
   ]
  },
  {
   "cell_type": "code",
   "execution_count": 27,
   "id": "52ab3e7e",
   "metadata": {},
   "outputs": [],
   "source": [
    "kmeans = KMeans(init=\"random\",n_clusters=4,max_iter=300,random_state=0)\n",
    "pred = kmeans.fit_predict(df_scale)\n",
    "pred\n",
    "df_data['K Means'] = pred"
   ]
  },
  {
   "cell_type": "code",
   "execution_count": 28,
   "id": "1ed7610c",
   "metadata": {},
   "outputs": [
    {
     "data": {
      "text/html": [
       "<div>\n",
       "<style scoped>\n",
       "    .dataframe tbody tr th:only-of-type {\n",
       "        vertical-align: middle;\n",
       "    }\n",
       "\n",
       "    .dataframe tbody tr th {\n",
       "        vertical-align: top;\n",
       "    }\n",
       "\n",
       "    .dataframe thead th {\n",
       "        text-align: right;\n",
       "    }\n",
       "</style>\n",
       "<table border=\"1\" class=\"dataframe\">\n",
       "  <thead>\n",
       "    <tr style=\"text-align: right;\">\n",
       "      <th></th>\n",
       "      <th>gender</th>\n",
       "      <th>age</th>\n",
       "      <th>Time</th>\n",
       "      <th>Number_of_Warts</th>\n",
       "      <th>Type</th>\n",
       "      <th>Area</th>\n",
       "      <th>induration_diameter</th>\n",
       "      <th>Result_of_Treatment</th>\n",
       "      <th>Count</th>\n",
       "    </tr>\n",
       "    <tr>\n",
       "      <th>K Means</th>\n",
       "      <th></th>\n",
       "      <th></th>\n",
       "      <th></th>\n",
       "      <th></th>\n",
       "      <th></th>\n",
       "      <th></th>\n",
       "      <th></th>\n",
       "      <th></th>\n",
       "      <th></th>\n",
       "    </tr>\n",
       "  </thead>\n",
       "  <tbody>\n",
       "    <tr>\n",
       "      <th>0</th>\n",
       "      <td>1.619048</td>\n",
       "      <td>30.500000</td>\n",
       "      <td>7.505952</td>\n",
       "      <td>4.285714</td>\n",
       "      <td>1.414286</td>\n",
       "      <td>58.619048</td>\n",
       "      <td>8.142857</td>\n",
       "      <td>0.97619</td>\n",
       "      <td>42</td>\n",
       "    </tr>\n",
       "    <tr>\n",
       "      <th>1</th>\n",
       "      <td>1.478261</td>\n",
       "      <td>27.826087</td>\n",
       "      <td>4.547826</td>\n",
       "      <td>9.173913</td>\n",
       "      <td>2.565217</td>\n",
       "      <td>50.695652</td>\n",
       "      <td>24.704348</td>\n",
       "      <td>1.00000</td>\n",
       "      <td>23</td>\n",
       "    </tr>\n",
       "    <tr>\n",
       "      <th>2</th>\n",
       "      <td>1.375000</td>\n",
       "      <td>30.875000</td>\n",
       "      <td>6.968750</td>\n",
       "      <td>5.750000</td>\n",
       "      <td>1.500000</td>\n",
       "      <td>476.375000</td>\n",
       "      <td>14.000000</td>\n",
       "      <td>0.87500</td>\n",
       "      <td>8</td>\n",
       "    </tr>\n",
       "    <tr>\n",
       "      <th>3</th>\n",
       "      <td>1.529412</td>\n",
       "      <td>36.823529</td>\n",
       "      <td>10.279412</td>\n",
       "      <td>6.505882</td>\n",
       "      <td>1.576471</td>\n",
       "      <td>69.058824</td>\n",
       "      <td>16.352941</td>\n",
       "      <td>0.00000</td>\n",
       "      <td>17</td>\n",
       "    </tr>\n",
       "  </tbody>\n",
       "</table>\n",
       "</div>"
      ],
      "text/plain": [
       "           gender        age       Time  Number_of_Warts      Type  \\\n",
       "K Means                                                              \n",
       "0        1.619048  30.500000   7.505952         4.285714  1.414286   \n",
       "1        1.478261  27.826087   4.547826         9.173913  2.565217   \n",
       "2        1.375000  30.875000   6.968750         5.750000  1.500000   \n",
       "3        1.529412  36.823529  10.279412         6.505882  1.576471   \n",
       "\n",
       "               Area  induration_diameter  Result_of_Treatment  Count  \n",
       "K Means                                                               \n",
       "0         58.619048             8.142857              0.97619     42  \n",
       "1         50.695652            24.704348              1.00000     23  \n",
       "2        476.375000            14.000000              0.87500      8  \n",
       "3         69.058824            16.352941              0.00000     17  "
      ]
     },
     "execution_count": 28,
     "metadata": {},
     "output_type": "execute_result"
    }
   ],
   "source": [
    "df_data.groupby('K Means').agg(\n",
    "gender = ('gender', pd.Series.mean), \n",
    "age = ('age', pd.Series.mean),\n",
    "Time = ('Time', pd.Series.mean),\n",
    "Number_of_Warts = ('Number_of_Warts', pd.Series.mean),\n",
    "Type = ('Type', pd.Series.mean),\n",
    "Area = ('Area', pd.Series.mean),\n",
    "induration_diameter = ('induration_diameter', pd.Series.mean), \n",
    "Result_of_Treatment = ('Result_of_Treatment', pd.Series.mean), Count = ('K Means', 'count')\n",
    ")"
   ]
  },
  {
   "cell_type": "code",
   "execution_count": 29,
   "id": "ae7210d8",
   "metadata": {},
   "outputs": [
    {
     "data": {
      "image/png": "[encoded data removed]",
      "text/plain": [
       "<Figure size 1440x504 with 1 Axes>"
      ]
     },
     "metadata": {
      "needs_background": "light"
     },
     "output_type": "display_data"
    }
   ],
   "source": [
    "from scipy.cluster.hierarchy import dendrogram, linkage\n",
    "plt.figure(figsize=(20,7))\n",
    "linkage_data = linkage(df_scale, method='complete', metric='euclidean',)\n",
    "dendrogram(linkage_data)\n",
    "plt.show()"
   ]
  },
  {
   "cell_type": "markdown",
   "id": "47980740",
   "metadata": {},
   "source": [
    "# Kesimpulan\n",
    "\n",
    "Diatas merupakan sebuah pengolahan dataset melalui 3 model yaitu Classification, Regression, dan Clustering. Sebelum melakukan permodelan dataset memang harus lebih dulu kita preprocessing hal ini dikarenakan terdapat beberapa missing value pada data, selain itu juga terdapat imbalance / ketidakseimbangan data pada variable target yang membuat kita harus melakukan oversampling agar value dari variable target menjadi balance. Setelah itu baru dilakukan permodelan. Pada permodelan Klasifikasi menggunakan Naive Bayes didapatkan akurasi score sebesar 0.8"
   ]
  },
  {
   "cell_type": "code",
   "execution_count": null,
   "id": "11a02af7",
   "metadata": {},
   "outputs": [],
   "source": []
  }
 ],
 "metadata": {
  "kernelspec": {
   "display_name": "Python 3 (ipykernel)",
   "language": "python",
   "name": "python3"
  },
  "language_info": {
   "codemirror_mode": {
    "name": "ipython",
    "version": 3
   },
   "file_extension": ".py",
   "mimetype": "text/x-python",
   "name": "python",
   "nbconvert_exporter": "python",
   "pygments_lexer": "ipython3",
   "version": "3.9.12"
  }
 },
 "nbformat": 4,
 "nbformat_minor": 5
}
